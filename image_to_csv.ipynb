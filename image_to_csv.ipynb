{
 "cells": [
  {
   "cell_type": "code",
   "execution_count": 1,
   "id": "0bbd40f8",
   "metadata": {},
   "outputs": [],
   "source": [
    "import os\n",
    "import matplotlib.pyplot as plt\n",
    "import numpy as np\n",
    "import cv2\n",
    "import csv"
   ]
  },
  {
   "cell_type": "code",
   "execution_count": 2,
   "id": "9a812775",
   "metadata": {},
   "outputs": [],
   "source": [
    "# creating a csv file with columns emotion, pixels and usage\n",
    "with open(\"lbp_training.csv\", 'a', newline = '') as csvfile: # csv file in append mode\n",
    "    row = ['emotion', 'pixels', 'Usage']\n",
    "    writer = csv.writer(csvfile)\n",
    "    writer.writerow(row)\n",
    "    "
   ]
  },
  {
   "cell_type": "code",
   "execution_count": 3,
   "id": "156d2d1e",
   "metadata": {},
   "outputs": [
    {
     "name": "stdout",
     "output_type": "stream",
     "text": [
      "All the training datas are written.\n"
     ]
    }
   ],
   "source": [
    "# saving the training lbp images in csv file\n",
    "\n",
    "expression = ['0','1','2','3','4','5','6']\n",
    "\n",
    "for i  in range(0,7):\n",
    "\n",
    "    folder_dir = \"lbp/lbp_train\"+'/'+expression[i]    \n",
    "\n",
    "    for images in os.listdir(folder_dir):\n",
    "        img = cv2.imread(folder_dir + '/' + images)\n",
    "        height, width, _ = img.shape\n",
    "\n",
    "        # We need to convert RGB image into gray one because gray image has one channel only i.e. (48,48).\n",
    "\n",
    "        img_gray = cv2.cvtColor(img, cv2.COLOR_BGR2GRAY)\n",
    "        label = expression[i]\n",
    "\n",
    "        #print(label)\n",
    "\n",
    "        usage = 'Training'\n",
    "\n",
    "        # print(image[:, :])\n",
    "        #print(width)\n",
    "        #print(height)\n",
    "\n",
    "        value = img_gray\n",
    "        #print(value.shape)\n",
    "\n",
    "        value = value.flatten()\n",
    "\n",
    "        #print(len(value))\n",
    "\n",
    "        n_value = ' '.join(map(str, value))\n",
    "\n",
    "        #print(n_value)\n",
    "\n",
    "        row = [label, n_value, usage]\n",
    "\n",
    "        with open(\"lbp_training.csv\", 'a', newline = '') as csvfile:\n",
    "            writer = csv.writer(csvfile)\n",
    "            writer.writerow(row)\n",
    "print(\"All the training datas are written.\")"
   ]
  },
  {
   "cell_type": "code",
   "execution_count": 4,
   "id": "3365f421",
   "metadata": {},
   "outputs": [],
   "source": [
    "# creating a csv file with columns emotion, pixels and usage\n",
    "with open(\"lbp_testing.csv\", 'a', newline = '') as csvfile: # csv file in append mode\n",
    "    row = ['emotion', 'pixels', 'Usage']\n",
    "    writer = csv.writer(csvfile)\n",
    "    writer.writerow(row)\n",
    "    "
   ]
  },
  {
   "cell_type": "code",
   "execution_count": 5,
   "id": "9e50c8ee",
   "metadata": {},
   "outputs": [
    {
     "name": "stdout",
     "output_type": "stream",
     "text": [
      "All the testing datas were wriiten.\n"
     ]
    }
   ],
   "source": [
    "# saving the training lbp images in csv file\n",
    "\n",
    "expression = ['0','1','2','3','4','5','6']\n",
    "\n",
    "for i  in range(0,7):\n",
    "\n",
    "    folder_dir = \"lbp/lbp_test\"+'/'+expression[i]    \n",
    "\n",
    "    for images in os.listdir(folder_dir):\n",
    "        img = cv2.imread(folder_dir + '/' + images)\n",
    "        height, width, _ = img.shape\n",
    "\n",
    "        # We need to convert RGB image into gray one because gray image has one channel only i.e. (48,48).\n",
    "\n",
    "        img_gray = cv2.cvtColor(img, cv2.COLOR_BGR2GRAY)\n",
    "        label = expression[i]\n",
    "\n",
    "        #print(label)\n",
    "\n",
    "        usage = 'Testing'\n",
    "\n",
    "        # print(image[:, :])\n",
    "        #print(width)\n",
    "        #print(height)\n",
    "\n",
    "        value = img_gray\n",
    "        #print(value.shape)\n",
    "\n",
    "        value = value.flatten()\n",
    "\n",
    "        #print(len(value))\n",
    "\n",
    "        n_value = ' '.join(map(str, value))\n",
    "\n",
    "        #print(n_value)\n",
    "\n",
    "        row = [label, n_value, usage]\n",
    "\n",
    "        with open(\"lbp_testing.csv\", 'a', newline = '') as csvfile:\n",
    "            writer = csv.writer(csvfile)\n",
    "            writer.writerow(row)\n",
    "\n",
    "print(\"All the testing datas were wriiten.\")\n"
   ]
  }
 ],
 "metadata": {
  "kernelspec": {
   "display_name": "Python 3 (ipykernel)",
   "language": "python",
   "name": "python3"
  },
  "language_info": {
   "codemirror_mode": {
    "name": "ipython",
    "version": 3
   },
   "file_extension": ".py",
   "mimetype": "text/x-python",
   "name": "python",
   "nbconvert_exporter": "python",
   "pygments_lexer": "ipython3",
   "version": "3.10.6"
  }
 },
 "nbformat": 4,
 "nbformat_minor": 5
}
