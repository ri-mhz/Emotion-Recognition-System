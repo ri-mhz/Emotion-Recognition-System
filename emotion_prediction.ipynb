{
 "cells": [
  {
   "cell_type": "code",
   "execution_count": null,
   "id": "da255ab1",
   "metadata": {},
   "outputs": [],
   "source": [
    "# Import the necessary libraries\n",
    "import tensorflow as tf\n",
    "from tensorflow import keras\n",
    "import cv2\n",
    "import numpy as np\n",
    "import matplotlib.pyplot as plt"
   ]
  },
  {
   "cell_type": "code",
   "execution_count": null,
   "id": "46ebb842",
   "metadata": {},
   "outputs": [],
   "source": [
    "face_cascade = cv2.CascadeClassifier(r'harrcascade_frontface_default.xml')\n",
    "\n",
    "image = cv2.imread('D:/model/tilt.jpg')\n",
    "\n",
    "img = image\n",
    "gray = cv2.cvtColor(img,cv2.COLOR_BGR2GRAY)\n",
    "\n",
    "faces= face_cascade.detectMultiScale(gray, 1.1, 4)\n",
    "\n",
    "#print(*faces)\n",
    "if len(faces) <2:\n",
    "    for (x, y, w, h)in faces:\n",
    "        cv2.rectangle(gray, (x,y), (x+w,y+h), (255,0,0),2)\n",
    "else:\n",
    "    print(\"Multiple face detected\")\n",
    "    \n",
    "\n",
    "cv2.imshow('img',gray)\n",
    "cv2.imwrite('r_img_gray.jpg',gray)\n",
    "cv2.waitKey()\n",
    "\n",
    "\n",
    "\n",
    "for(x,y,w,h)in faces: \n",
    "    face_cropped = gray[y:y+h,x:x+w]\n",
    "#cv2.imwrite('r_crop.jpg',face_cropped)\n",
    "\n",
    "\n",
    "face_resized=cv2.resize(face_cropped,(48,48),interpolation=cv2.INTER_AREA)\n",
    "#print(face_resized)\n",
    "\n",
    "cv2.imshow(\"Resized face\", face_resized)\n",
    "#cv2.imwrite('r_resize.jpg',face_resized)\n",
    "cv2.waitKey(0)\n"
   ]
  },
  {
   "cell_type": "code",
   "execution_count": null,
   "id": "af2c76fc",
   "metadata": {},
   "outputs": [],
   "source": [
    "#cv2.imwrite('r_gray.jpg',gray)"
   ]
  },
  {
   "cell_type": "code",
   "execution_count": null,
   "id": "0eb40ef4",
   "metadata": {},
   "outputs": [],
   "source": [
    "# finding the lbp images of the resized face\n",
    "from lbp import lbp_calculated_pixel"
   ]
  },
  {
   "cell_type": "code",
   "execution_count": null,
   "id": "2972b405",
   "metadata": {},
   "outputs": [],
   "source": [
    "# Load the pre-trained emotion detection model\n",
    "model = keras.models.load_model('best_model_LBP_with 50%.h5')\n",
    "\n",
    "# Define the emotion labels\n",
    "emotion_labels = ['Angry', 'Disgust', 'Fear', 'Happy', 'Sad', 'Surprise', 'Neutral']\n",
    "\n",
    "# Load the input image\n",
    "#img = cv2.imread('face_resized')\n",
    "#plt.imshow(img)\n",
    "#plt.show()\n",
    "'''\n",
    "# Preprocess the input image to make it compatible with the model's input format\n",
    "img = cv2.resize(img, (48, 48))\n",
    "mg = cv2.cvtColor(img, cv2.COLOR_BGR2GRAY)'''\n",
    "#img = np.reshape(face_resized, (1, 48, 48, 1))\n",
    "#img = np.reshape(face_resized, (48, 48,1))\n",
    "\n",
    "#lbp\n",
    "\n",
    "height, width= face_resized.shape\n",
    "\n",
    "# for lbp We need to convert RGB image into gray one because gray image has one channel only but already converted .\n",
    "\n",
    "# Create a numpy array as the same height and width of RGB image\n",
    "img_lbp = np.zeros((height, width),np.uint8)\n",
    "\n",
    "for i in range(0, height):\n",
    "    for j in range(0, width):\n",
    "        img_lbp[i, j] = lbp_calculated_pixel(face_resized, i, j)\n",
    "        \n",
    "img_lbp = np.reshape(img_lbp, (1, 48, 48, 1))\n",
    "\n",
    "\n",
    "# Use the model to generate a prediction for the input image\n",
    "predictions = model.predict(img_lbp)\n",
    "\n",
    "# Postprocess the model's prediction to extract the most likely emotion label\n",
    "emotion_label = emotion_labels[np.argmax(predictions)]\n",
    "\n",
    "# Output the predicted emotion label\n",
    "print(emotion_label)"
   ]
  },
  {
   "cell_type": "markdown",
   "id": "e1305d53",
   "metadata": {},
   "source": [
    "model_lbpcnn => all sad\n",
    "rest model => all angry\n",
    "cnn.h5=>happy,surprise,fear,showing neutral,disgust,sad as angry, aru happy\n",
    "bestmodel.h5=> sad,angry,neutral,surprise,happy disgust=>angry,fear=>surprise\n",
    "bestmodellbp.h5=> sad,fear,angry,happy disgust=>angry,surprise=>fear,neutral=>happy\n",
    "bestmodellbp50%=> neutral,happy,surprise,angry sad=>neutral fear=>surprise,disgust=>happy\n"
   ]
  },
  {
   "cell_type": "code",
   "execution_count": null,
   "id": "014441d1",
   "metadata": {},
   "outputs": [],
   "source": [
    "#displaying the emotion of the image\n",
    "for (x, y, w, h)in faces:\n",
    "        \n",
    "    # Draw a rectangle around the face\n",
    "    cv2.rectangle(image, (x, y), (x+w, y+h), (0, 255, 0), 2)\n",
    "\n",
    "    # Put the emotion label above the face\n",
    "    cv2.putText(image, emotion_label, (x, y-10), cv2.FONT_HERSHEY_SIMPLEX, 0.9, (0, 255, 0), 2)\n",
    "\n",
    "# Display the result\n",
    "cv2.imshow('Emotion Detection', image)\n",
    "cv2.imwrite('r_emotion.jpg',image)\n",
    "cv2.waitKey()"
   ]
  }
 ],
 "metadata": {
  "kernelspec": {
   "display_name": "Python 3 (ipykernel)",
   "language": "python",
   "name": "python3"
  },
  "language_info": {
   "codemirror_mode": {
    "name": "ipython",
    "version": 3
   },
   "file_extension": ".py",
   "mimetype": "text/x-python",
   "name": "python",
   "nbconvert_exporter": "python",
   "pygments_lexer": "ipython3",
   "version": "3.10.6"
  }
 },
 "nbformat": 4,
 "nbformat_minor": 5
}
