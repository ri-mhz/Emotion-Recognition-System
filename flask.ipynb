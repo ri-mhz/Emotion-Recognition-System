

{

 "cells": [

  {

   "cell_type": "code",

   "execution_count": null,

   "id": "a3cf2e4e",

   "metadata": {},

   "outputs": [],

   "source": [

    "! pip install html5lib"

   ]

  },

  {

   "cell_type": "code",

   "execution_count": null,

   "id": "b0889e92",

   "metadata": {},

   "outputs": [],

   "source": [

    "import pandas as pd\n",

    "from pandas import read_html\n",

    "import html5lib"

   ]

  },

  {

   "cell_type": "code",

   "execution_count": null,

   "id": "825c6244",

   "metadata": {},

   "outputs": [],

   "source": [

    "#importing flask libraries\n",

    "from flask import Flask, render_template\n",

    "\n",

    "app = Flask(__name__) #creating flask object\n",

    "@app.route(\"/\") #mapping to html (route is decorator)\n",

    "def hello():\n",

    "    return \"Hello World\"\n",

    "if __name__ == \"__main__\":\n",

    "    app.run()"

   ]

  },

  {

   "cell_type": "code",

   "execution_count": null,

   "id": "ed48f8d7",

   "metadata": {},

   "outputs": [],

   "source": [

    "#importing flask libraries\n",

    "from flask import Flask, render_template\n",

    "\n",

    "app = Flask(__name__) #creating flask object\n",

    "\n",

    "@app.route(\"/home\", methods=['POST', \"GET\"]) #mapping to html (route is decorator)\n",

    "\n",

    "def upload_image():\n",

    "    \n",

    "    return render_template(\"insertimage.html\")\n",

    "    \n",

    "app.run(port = 5000)"

   ]

  },

  {

   "cell_type": "code",

   "execution_count": null,

   "id": "5a4b4d05",

   "metadata": {},

   "outputs": [],

   "source": [

    "import numpy as np\n",

    "from flask import Flask, request, render_template\n",

    "import pickle\n",

    "\n",

    "app = Flask(__name__)\n",

    "\n",

    "model = pickle.load(open('models/model.pkl', 'rb'))\n",

    "\n",

    "@app.route('/')\n",

    "def home():\n",

    "    return render_template('index.html')\n",

    "\n",

    "@app.route('/predict',methods=['POST'])\n",

    "def predict():\n",

    "    int_features = [int(x) for x in request.form.values()]\n",

    "    features = [np.array(int_features)]  \n",

    "    prediction = model.predict(features) \n",

    "    result = prediction[0]\n",

    "\n",

    "    return render_template('index.html', prediction=result)\n",

    "\n",

    "if __name__ == \"__main__\":\n",

    "    app.run(debug=True)"

   ]

  },

  {

   "cell_type": "code",

   "execution_count": null,

   "id": "b85ca5be",

   "metadata": {},

   "outputs": [],

   "source": [

    "pip import flask"

   ]

  },

  {

   "cell_type": "code",

   "execution_count": null,

   "id": "3f4525a9",

   "metadata": {},

   "outputs": [],

   "source": [

    "url = \"insertimage.html\""

   ]

  },

  {

   "cell_type": "code",

   "execution_count": null,

   "id": "e382bba7",

   "metadata": {},

   "outputs": [],

   "source": [

    "from PIL import Image\n",

    "import requests\n",

    "from io import BytesIO\n",

    "\n",

    "response = requests.get(url)\n",

    "img = Image.open(BytesIO(response.content))"

   ]

  },

  {

   "cell_type": "code",

   "execution_count": null,

   "id": "92cd3965",

   "metadata": {},

   "outputs": [],

   "source": [

    "table_list = pd.io.html.read_html(url)"

   ]

  },

  {

   "cell_type": "code",

   "execution_count": null,

   "id": "2aa13629",

   "metadata": {},

   "outputs": [],

   "source": [

    "from flask import Flask, render_template, redirect\n",

    "\n",

    "app = Flask(__name__)#creating flask object\n",

    "\n",

    "#flask routing\n",

    "@app.route(\"/\")\n",

    "@app.route(\"/html\")\n",

    "def html():\n",

    "    return render_template(\"main.html\")\n",

    "\n",

    "\n",

    "if __name__ == \"__main__\":\n",

    "    app.run()\n"

   ]

  },

  {

   "cell_type": "code",

   "execution_count": 1,

   "id": "2ce4b39e",

   "metadata": {},

   "outputs": [],

   "source": [

    "from flask import Flask, render_template, redirect, request, url_for\n",

    "from PIL import Image\n",

    "import cv2\n",

    "import numpy as np\n",

    "import model\n",

    "import camera"

   ]

  },

  {

   "cell_type": "code",

   "execution_count": null,

   "id": "bc4e51a0",

   "metadata": {},

   "outputs": [

    {

     "name": "stdout",

     "output_type": "stream",

     "text": [

      " * Serving Flask app '__main__'\n",

      " * Debug mode: off\n"

     ]

    },

    {

     "name": "stderr",

     "output_type": "stream",

     "text": [

      "WARNING: This is a development server. Do not use it in a production deployment. Use a production WSGI server instead.\n",

      " * Running on http://127.0.0.1:5000\n",

      "Press CTRL+C to quit\n",

      "127.0.0.1 - - [07/Mar/2023 14:43:30] \"GET / HTTP/1.1\" 200 -\n",

      "127.0.0.1 - - [07/Mar/2023 14:43:30] \"GET /static/button.css HTTP/1.1\" 304 -\n",

      "127.0.0.1 - - [07/Mar/2023 14:43:30] \"GET /static/bckgrnd.jpg HTTP/1.1\" 304 -\n",

      "127.0.0.1 - - [07/Mar/2023 14:43:30] \"GET /static/cameraicon.jpg HTTP/1.1\" 304 -\n",

      "127.0.0.1 - - [07/Mar/2023 14:43:31] \"GET /takephoto HTTP/1.1\" 200 -\n",

      "127.0.0.1 - - [07/Mar/2023 14:43:31] \"GET /static/camera.css HTTP/1.1\" 304 -\n"

     ]

    }

   ],

   "source": [

    "app = Flask(__name__)#creating flask object\n",

    "\n",

    "#flask routing\n",

    "@app.route(\"/\")#decorater\n",

    "@app.route(\"/main\")\n",

    "def main():\n",

    "    return render_template(\"main.html\")\n",

    "@app.route(\"/insert\")\n",

    "def insert():\n",

    "    return render_template('insertimage.html')\n",

    "@app.route(\"/takephoto\")\n",

    "def takephoto():\n",

    "    return render_template(\"takephoto.html\")\n",

    "@app.route('/upload-image', methods=['POST'])\n",

    "def upload_image():\n",

    "    #read image file string data\n",

    "    filestr = request.files['image']\n",

    "    #convert string data to numpy array\n",

    "    file_bytes = np.fromfile(filestr, np.uint8)\n",

    "    # convert numpy array to image\n",

    "    img = cv2.imdecode(file_bytes, cv2.IMREAD_UNCHANGED)\n",

    "    emotion = model.haar(img)\n",

    "    print(emotion)\n",

    "    # process the image as desired\n",

    "    return render_template(\"results.html\",value=emotion)\n",

    "@app.route('/snapshot')\n",

    "def snapshot():\n",

    "    #read image from camera\n",

    "    image = camera.opencamera()\n",

    "    emotion = model.haar(img)\n",

    "    print(emotion)\n",

    "    # process the image as desired\n",

    "    return render_template(\"results.html\",value=emotion)\n",

    "    \n",

    "if __name__ == \"__main__\":\n",

    "    app.run()\n"

   ]

  },

  {

   "cell_type": "code",

   "execution_count": null,

   "id": "a3e3f274",

   "metadata": {},

   "outputs": [],

   "source": [

    "\n"

   ]

  },

  {

   "cell_type": "code",

   "execution_count": null,

   "id": "62a5233f",

   "metadata": {},

   "outputs": [],

   "source": [

    "print(type(image))"

   ]

  }

 ],

 "metadata": {

  "kernelspec": {

   "display_name": "Python 3 (ipykernel)",

   "language": "python",

   "name": "python3"

  },

  "language_info": {

   "codemirror_mode": {

    "name": "ipython",

    "version": 3

   },

   "file_extension": ".py",

   "mimetype": "text/x-python",

   "name": "python",

   "nbconvert_exporter": "python",

   "pygments_lexer": "ipython3",

   "version": "3.10.4"

  }

 },

 "nbformat": 4,

 "nbformat_minor": 5

}

