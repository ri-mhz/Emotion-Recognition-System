{

 "cells": [

  {

   "cell_type": "code",

   "execution_count": 1,

   "id": "07223bf3",

   "metadata": {},

   "outputs": [],

   "source": [

    "import pandas as pd\n",

    "import numpy as np\n",

    "from collections import Counter\n",

    "from imblearn.over_sampling import RandomOverSampler"

   ]

  },

  {

   "cell_type": "code",

   "execution_count": 2,

   "id": "e7c56f76",

   "metadata": {},

   "outputs": [],

   "source": [

    "data=pd.read_csv('lbp_testing.csv',usecols=['emotion','pixels','Usage'])"

   ]

  },

  {

   "cell_type": "code",

   "execution_count": 3,

   "id": "3608b238",

   "metadata": {},

   "outputs": [

    {

     "name": "stdout",

     "output_type": "stream",

     "text": [

      "(7178, 3)\n"

     ]

    }

   ],

   "source": [

    "data_small=data#.head(1000)\n",

    "print(data_small.shape)"

   ]

  },

  {

   "cell_type": "code",

   "execution_count": 4,

   "id": "7a506fe1",

   "metadata": {},

   "outputs": [],

   "source": [

    "#data_small.pixels[0].split(\" \")"

   ]

  },

  {

   "cell_type": "markdown",

   "id": "635aead3",

   "metadata": {},

   "source": [

    "    1.Pixels initially was string. eg: '70 80 89 65.........'\n",

    "    2.Split by a single space converted it into a list of string. eg.['70','80','89','65'.........]\n",

    "    3.We typecasted string into integer. eg.[70,80,89,65.........]\n",

    "    Above procedure is repeated for each row and gathered in x_data_list."

   ]

  },

  {

   "cell_type": "code",

   "execution_count": 6,

   "id": "28bc4346",

   "metadata": {},

   "outputs": [],

   "source": [

    "x_data_list=[]  \n",

    "for data_row in data_small.pixels:\n",

    "    values=[]\n",

    "    for value in data_row.split(\" \"):\n",

    "        values.append(int(value))\n",

    "    x_data_list.append(values)   "

   ]

  },

  {

   "cell_type": "code",

   "execution_count": 7,

   "id": "cf3ee775",

   "metadata": {

    "scrolled": true

   },

   "outputs": [

    {

     "data": {

      "text/plain": [

       "array([[ 72,  73, 184, ...,  39,  51,  33],\n",

       "       [ 68, 214, 185, ...,  44,  40,  37],\n",

       "       [ 66, 191, 197, ...,  93, 126, 102],\n",

       "       ...,\n",

       "       [179, 150, 205, ..., 118,  54,  28],\n",

       "       [211,  76,  74, ...,  45,  58,  28],\n",

       "       [165, 156, 177, ..., 113, 103, 115]])"

      ]

     },

     "execution_count": 7,

     "metadata": {},

     "output_type": "execute_result"

    }

   ],

   "source": [

    "#print(x_data_list[0])\n",

    "np.asarray(x_data_list)"

   ]

  },

  {

   "cell_type": "code",

   "execution_count": 10,

   "id": "b2bd680c",

   "metadata": {},

   "outputs": [],

   "source": [

    "x_train=np.asarray(x_data_list)\n",

    "y_train=data_small.emotion"

   ]

  },

  {

   "cell_type": "code",

   "execution_count": 11,

   "id": "975f911e",

   "metadata": {},

   "outputs": [],

   "source": [

    "ros=RandomOverSampler()\n",

    "ros_x_train,ros_y_train=ros.fit_resample(x_train,y_train)"

   ]

  },

  {

   "cell_type": "markdown",

   "id": "1166d892",

   "metadata": {},

   "source": [

    "Before oversampling class label were of various size so the data was imabalanced "

   ]

  },

  {

   "cell_type": "code",

   "execution_count": 12,

   "id": "f04d0be7",

   "metadata": {},

   "outputs": [

    {

     "name": "stdout",

     "output_type": "stream",

     "text": [

      "Before sampling class distribution:- Counter({3: 1774, 4: 1247, 6: 1233, 2: 1024, 0: 958, 5: 831, 1: 111})\n",

      "After sampling class distribution:- Counter({0: 1774, 1: 1774, 2: 1774, 3: 1774, 4: 1774, 5: 1774, 6: 1774})\n"

     ]

    }

   ],

   "source": [

    "print('Before sampling class distribution:-',Counter(y_train))\n",

    "print('After sampling class distribution:-',Counter(ros_y_train))"

   ]

  },

  {

   "cell_type": "code",

   "execution_count": 13,

   "id": "f2131c92",

   "metadata": {},

   "outputs": [

    {

     "data": {

      "text/plain": [

       "numpy.ndarray"

      ]

     },

     "execution_count": 13,

     "metadata": {},

     "output_type": "execute_result"

    }

   ],

   "source": [

    "type(ros_x_train)"

   ]

  },

  {

   "cell_type": "code",

   "execution_count": 14,

   "id": "9b6d4151",

   "metadata": {},

   "outputs": [],

   "source": [

    "p_data_list=[]  \n",

    "for data_row in ros_x_train:\n",

    "    values=[]\n",

    "    for value in np.append(data_row,value):\n",

    "        values.append(str(value))\n",

    "    p_data_list.append(values)  "

   ]

  },

  {

   "cell_type": "code",

   "execution_count": 15,

   "id": "00294395",

   "metadata": {},

   "outputs": [],

   "source": [

    "p_data_list=[]\n",

    "for data_row in ros_x_train:\n",

    "    str_row=\" \".join([str(el)for el in data_row])\n",

    "    p_data_list.append(str_row)"

   ]

  },

  {

   "cell_type": "code",

   "execution_count": 16,

   "id": "b72c298d",

   "metadata": {},

   "outputs": [

    {

     "name": "stdout",

     "output_type": "stream",

     "text": [

      "<class 'str'>\n"

     ]

    }

   ],

   "source": [

    "print(type(p_data_list[1][0]))"

   ]

  },

  {

   "cell_type": "code",

   "execution_count": 17,

   "id": "c99d8b35",

   "metadata": {},

   "outputs": [],

   "source": [

    "d={'emotion':ros_y_train,'pixels':p_data_list}\n",

    "pd.DataFrame(data=d).to_csv('lbp_oversampled_testing.csv')\n",

    "#csv1=pd.DataFrame([ros_y_train,p_data_list],columns=['emotions','pixels']).to_csv('emotion.csv', index=False)"

   ]

  },

  {

   "cell_type": "code",

   "execution_count": null,

   "id": "1e32122e",

   "metadata": {},

   "outputs": [],

   "source": []

  }

 ],

 "metadata": {

  "kernelspec": {

   "display_name": "Python 3 (ipykernel)",

   "language": "python",

   "name": "python3"

  },

  "language_info": {

   "codemirror_mode": {

    "name": "ipython",

    "version": 3

   },

   "file_extension": ".py",

   "mimetype": "text/x-python",

   "name": "python",

   "nbconvert_exporter": "python",

   "pygments_lexer": "ipython3",

   "version": "3.10.5"

  }

 },

 "nbformat": 4,

 "nbformat_minor": 5

}
