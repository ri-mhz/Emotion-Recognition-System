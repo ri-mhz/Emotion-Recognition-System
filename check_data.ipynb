{
 "cells": [
  {
   "cell_type": "code",
   "execution_count": 3,
   "id": "b47d6e75",
   "metadata": {},
   "outputs": [],
   "source": [
    "import pandas as pd\n",
    "import numpy as np\n",
    "import matplotlib.pyplot as plt "
   ]
  },
  {
   "cell_type": "code",
   "execution_count": 2,
   "id": "3fd67e9a",
   "metadata": {},
   "outputs": [
    {
     "name": "stdout",
     "output_type": "stream",
     "text": [
      "       emotion                                             pixels        Usage\n",
      "0            0  70 80 82 72 58 58 60 63 54 58 60 48 89 115 121...     Training\n",
      "1            0  151 150 147 155 148 133 111 140 170 174 182 15...     Training\n",
      "2            2  231 212 156 164 174 138 161 173 182 200 106 38...     Training\n",
      "3            4  24 32 36 30 32 23 19 20 30 41 21 22 32 34 21 1...     Training\n",
      "4            6  4 0 0 0 0 0 0 0 0 0 0 0 3 15 23 28 48 50 58 84...     Training\n",
      "...        ...                                                ...          ...\n",
      "35882        6  50 36 17 22 23 29 33 39 34 37 37 37 39 43 48 5...  PrivateTest\n",
      "35883        3  178 174 172 173 181 188 191 194 196 199 200 20...  PrivateTest\n",
      "35884        0  17 17 16 23 28 22 19 17 25 26 20 24 31 19 27 9...  PrivateTest\n",
      "35885        3  30 28 28 29 31 30 42 68 79 81 77 67 67 71 63 6...  PrivateTest\n",
      "35886        2  19 13 14 12 13 16 21 33 50 57 71 84 97 108 122...  PrivateTest\n",
      "\n",
      "[35887 rows x 3 columns]\n"
     ]
    }
   ],
   "source": [
    "data = pd.read_csv('fer2013.csv',usecols=['emotion','pixels','Usage'])\n",
    "print(data)"
   ]
  },
  {
   "cell_type": "code",
   "execution_count": 3,
   "id": "43669b5e",
   "metadata": {},
   "outputs": [
    {
     "name": "stdout",
     "output_type": "stream",
     "text": [
      "<class 'pandas.core.frame.DataFrame'>\n",
      "RangeIndex: 35887 entries, 0 to 35886\n",
      "Data columns (total 3 columns):\n",
      " #   Column   Non-Null Count  Dtype \n",
      "---  ------   --------------  ----- \n",
      " 0   emotion  35887 non-null  int64 \n",
      " 1   pixels   35887 non-null  object\n",
      " 2   Usage    35887 non-null  object\n",
      "dtypes: int64(1), object(2)\n",
      "memory usage: 841.2+ KB\n"
     ]
    }
   ],
   "source": [
    "data.info()#for checking if any of the data is null"
   ]
  },
  {
   "cell_type": "code",
   "execution_count": 11,
   "id": "c3c9a8a6",
   "metadata": {},
   "outputs": [],
   "source": [
    "train_count = data['Usage'].value_counts()['Training']\n",
    "test_count = data['Usage'].value_counts()['PrivateTest' or 'PublicTest']"
   ]
  },
  {
   "cell_type": "code",
   "execution_count": 17,
   "id": "8307fde0",
   "metadata": {},
   "outputs": [
    {
     "data": {
      "image/png": "[encoded data removed]",
      "text/plain": [
       "<Figure size 360x360 with 1 Axes>"
      ]
     },
     "metadata": {
      "needs_background": "light"
     },
     "output_type": "display_data"
    }
   ],
   "source": [
    "#plotting train and test data\n",
    "d = {'Training':train_count, 'Testing':test_count}\n",
    "x_axis = list(d.keys())#tycasting\n",
    "y_axis = list(d.values())\n",
    "plt.figure(figsize = (5,5))\n",
    "plt.bar(x_axis, y_axis, color='Black', width = 0.5)\n",
    "plt.show()"
   ]
  },
  {
   "cell_type": "code",
   "execution_count": 26,
   "id": "e4f48ce8",
   "metadata": {},
   "outputs": [
    {
     "data": {
      "image/png": "[encoded data removed]",
      "text/plain": [
       "<Figure size 432x288 with 1 Axes>"
      ]
     },
     "metadata": {
      "needs_background": "light"
     },
     "output_type": "display_data"
    }
   ],
   "source": [
    "#plotting different number of data available for different emotions\n",
    "count_0 = data['emotion'].value_counts()[0]\n",
    "count_1 = data['emotion'].value_counts()[1]\n",
    "count_2 = data['emotion'].value_counts()[2]\n",
    "count_3 = data['emotion'].value_counts()[3]\n",
    "count_4 = data['emotion'].value_counts()[4]\n",
    "count_5 = data['emotion'].value_counts()[5]\n",
    "count_6 = data['emotion'].value_counts()[6]\n",
    "e = {'Angry':count_0, 'Disgust':count_1, 'Fear':count_2, 'Happy':count_3, 'Sad':count_4, 'Surprise':count_5, 'Neutral':count_6}\n",
    "x_axis = list(e.keys())\n",
    "y_axis = list(e.values())\n",
    "plt.bar(x_axis, y_axis, color = 'Black', width = 0.5)\n",
    "plt.xlabel(\"emotions\")\n",
    "plt.show()"
   ]
  },
  {
   "cell_type": "code",
   "execution_count": 7,
   "id": "aecf55e8",
   "metadata": {},
   "outputs": [
    {
     "data": {
      "image/png": "[encoded data removed]",
      "text/plain": [
       "<Figure size 432x288 with 1 Axes>"
      ]
     },
     "metadata": {
      "needs_background": "light"
     },
     "output_type": "display_data"
    },
    {
     "name": "stdout",
     "output_type": "stream",
     "text": [
      "7215\n"
     ]
    }
   ],
   "source": [
    "train_data = pd.read_csv('fer_2013_training.csv', usecols = ['emotion', 'pixels'])\n",
    "count_0 = train_data['emotion'].value_counts()[0]\n",
    "count_1 = train_data['emotion'].value_counts()[1]\n",
    "count_2 = train_data['emotion'].value_counts()[2]\n",
    "count_3 = train_data['emotion'].value_counts()[3]\n",
    "count_4 = train_data['emotion'].value_counts()[4]\n",
    "count_5 = train_data['emotion'].value_counts()[5]\n",
    "count_6 = train_data['emotion'].value_counts()[6]\n",
    "e = {'Angry':count_0, 'Disgust':count_1, 'Fear':count_2, 'Happy':count_3, 'Sad':count_4, 'Surprise':count_5, 'Neutral':count_6}\n",
    "x_axis = list(e.keys())\n",
    "y_axis = list(e.values())\n",
    "plt.bar(x_axis, y_axis, color = 'Black', width = 0.5)\n",
    "plt.xlabel(\"emotions\")\n",
    "plt.show()\n",
    "print(count_3)"
   ]
  },
  {
   "cell_type": "code",
   "execution_count": 8,
   "id": "70f64567",
   "metadata": {},
   "outputs": [
    {
     "data": {
      "image/png": "[encoded data removed]",
      "text/plain": [
       "<Figure size 432x288 with 1 Axes>"
      ]
     },
     "metadata": {
      "needs_background": "light"
     },
     "output_type": "display_data"
    },
    {
     "name": "stdout",
     "output_type": "stream",
     "text": [
      "1774\n"
     ]
    }
   ],
   "source": [
    "train_data = pd.read_csv('fer_2013_testing.csv', usecols = ['emotion', 'pixels'])\n",
    "count_0 = train_data['emotion'].value_counts()[0]\n",
    "count_1 = train_data['emotion'].value_counts()[1]\n",
    "count_2 = train_data['emotion'].value_counts()[2]\n",
    "count_3 = train_data['emotion'].value_counts()[3]\n",
    "count_4 = train_data['emotion'].value_counts()[4]\n",
    "count_5 = train_data['emotion'].value_counts()[5]\n",
    "count_6 = train_data['emotion'].value_counts()[6]\n",
    "e = {'Angry':count_0, 'Disgust':count_1, 'Fear':count_2, 'Happy':count_3, 'Sad':count_4, 'Surprise':count_5, 'Neutral':count_6}\n",
    "x_axis = list(e.keys())\n",
    "y_axis = list(e.values())\n",
    "plt.bar(x_axis, y_axis, color = 'Black', width = 0.5)\n",
    "plt.xlabel(\"emotions\")\n",
    "plt.show()\n",
    "print(count_3)"
   ]
  }
 ],
 "metadata": {
  "kernelspec": {
   "display_name": "Python 3 (ipykernel)",
   "language": "python",
   "name": "python3"
  },
  "language_info": {
   "codemirror_mode": {
    "name": "ipython",
    "version": 3
   },
   "file_extension": ".py",
   "mimetype": "text/x-python",
   "name": "python",
   "nbconvert_exporter": "python",
   "pygments_lexer": "ipython3",
   "version": "3.10.6"
  }
 },
 "nbformat": 4,
 "nbformat_minor": 5
}
