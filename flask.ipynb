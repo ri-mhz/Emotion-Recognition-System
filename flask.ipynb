

{

 "cells": [

  {

   "cell_type": "code",

   "execution_count": 2,

   "id": "2ce4b39e",

   "metadata": {},

   "outputs": [],

   "source": [

    "from flask import Flask, render_template, redirect, request, url_for\n",

    "from PIL import Image\n",

    "import cv2\n",

    "import numpy as np\n",

    "import model\n",

    "import io\n",

    "import base64\n",

    "import matplotlib.pyplot as plt"

   ]

  },

  {

   "cell_type": "code",

   "execution_count": null,

   "id": "bc4e51a0",

   "metadata": {},

   "outputs": [

    {

     "name": "stdout",

     "output_type": "stream",

     "text": [

      " * Serving Flask app '__main__'\n",

      " * Debug mode: off\n"

     ]

    },

    {

     "name": "stderr",

     "output_type": "stream",

     "text": [

      "WARNING: This is a development server. Do not use it in a production deployment. Use a production WSGI server instead.\n",

      " * Running on http://127.0.0.1:5000\n",

      "Press CTRL+C to quit\n",

      "127.0.0.1 - - [10/Mar/2023 14:27:17] \"GET / HTTP/1.1\" 200 -\n",

      "127.0.0.1 - - [10/Mar/2023 14:27:17] \"GET /static/button.css HTTP/1.1\" 304 -\n",

      "127.0.0.1 - - [10/Mar/2023 14:27:17] \"GET /static/bckgrnd.jpg HTTP/1.1\" 304 -\n",

      "127.0.0.1 - - [10/Mar/2023 14:27:17] \"GET /static/cameraicon.jpg HTTP/1.1\" 304 -\n",

      "127.0.0.1 - - [10/Mar/2023 14:27:19] \"GET /takephoto HTTP/1.1\" 200 -\n",

      "127.0.0.1 - - [10/Mar/2023 14:27:30] \"GET /takephoto HTTP/1.1\" 200 -\n",

      "127.0.0.1 - - [10/Mar/2023 14:27:30] \"POST /get-image HTTP/1.1\" 302 -\n"

     ]

    },

    {

     "name": "stdout",

     "output_type": "stream",

     "text": [

      "multiple face detected\n",

      "None\n"

     ]

    },

    {

     "name": "stderr",

     "output_type": "stream",

     "text": [

      "127.0.0.1 - - [10/Mar/2023 14:27:38] \"GET /takephoto HTTP/1.1\" 200 -\n",

      "127.0.0.1 - - [10/Mar/2023 14:27:38] \"POST /get-image HTTP/1.1\" 302 -\n"

     ]

    },

    {

     "name": "stdout",

     "output_type": "stream",

     "text": [

      "multiple face detected\n",

      "None\n"

     ]

    },

    {

     "name": "stderr",

     "output_type": "stream",

     "text": [

      "127.0.0.1 - - [10/Mar/2023 14:28:02] \"GET /takephoto HTTP/1.1\" 200 -\n",

      "127.0.0.1 - - [10/Mar/2023 14:28:02] \"POST /get-image HTTP/1.1\" 302 -\n"

     ]

    },

    {

     "name": "stdout",

     "output_type": "stream",

     "text": [

      "multiple face detected\n",

      "None\n"

     ]

    },

    {

     "name": "stderr",

     "output_type": "stream",

     "text": [

      "127.0.0.1 - - [10/Mar/2023 14:28:24] \"GET /takephoto HTTP/1.1\" 200 -\n",

      "127.0.0.1 - - [10/Mar/2023 14:28:24] \"POST /get-image HTTP/1.1\" 302 -\n"

     ]

    },

    {

     "name": "stdout",

     "output_type": "stream",

     "text": [

      "multiple face detected\n",

      "None\n"

     ]

    },

    {

     "name": "stderr",

     "output_type": "stream",

     "text": [

      "127.0.0.1 - - [10/Mar/2023 14:28:37] \"GET /takephoto HTTP/1.1\" 200 -\n",

      "127.0.0.1 - - [10/Mar/2023 14:28:38] \"POST /get-image HTTP/1.1\" 302 -\n"

     ]

    },

    {

     "name": "stdout",

     "output_type": "stream",

     "text": [

      "No face detected\n",

      "None\n"

     ]

    },

    {

     "name": "stderr",

     "output_type": "stream",

     "text": [

      "127.0.0.1 - - [10/Mar/2023 14:28:46] \"GET /takephoto HTTP/1.1\" 200 -\n",

      "127.0.0.1 - - [10/Mar/2023 14:28:46] \"POST /get-image HTTP/1.1\" 302 -\n"

     ]

    },

    {

     "name": "stdout",

     "output_type": "stream",

     "text": [

      "multiple face detected\n",

      "None\n"

     ]

    },

    {

     "name": "stderr",

     "output_type": "stream",

     "text": [

      "127.0.0.1 - - [10/Mar/2023 14:28:59] \"GET /takephoto HTTP/1.1\" 200 -\n"

     ]

    },

    {

     "name": "stdout",

     "output_type": "stream",

     "text": [

      "1/1 [==============================] - 1s 806ms/step\n"

     ]

    },

    {

     "name": "stderr",

     "output_type": "stream",

     "text": [

      "127.0.0.1 - - [10/Mar/2023 14:29:01] \"POST /get-image HTTP/1.1\" 302 -\n"

     ]

    },

    {

     "name": "stdout",

     "output_type": "stream",

     "text": [

      "Angry\n"

     ]

    },

    {

     "name": "stderr",

     "output_type": "stream",

     "text": [

      "127.0.0.1 - - [10/Mar/2023 14:29:07] \"GET /takephoto HTTP/1.1\" 200 -\n"

     ]

    },

    {

     "name": "stdout",

     "output_type": "stream",

     "text": [

      "1/1 [==============================] - 1s 617ms/step\n"

     ]

    },

    {

     "name": "stderr",

     "output_type": "stream",

     "text": [

      "127.0.0.1 - - [10/Mar/2023 14:29:10] \"POST /get-image HTTP/1.1\" 302 -\n"

     ]

    },

    {

     "name": "stdout",

     "output_type": "stream",

     "text": [

      "Happy\n"

     ]

    },

    {

     "name": "stderr",

     "output_type": "stream",

     "text": [

      "127.0.0.1 - - [10/Mar/2023 14:29:21] \"GET /takephoto HTTP/1.1\" 200 -\n",

      "127.0.0.1 - - [10/Mar/2023 14:29:22] \"POST /get-image HTTP/1.1\" 302 -\n"

     ]

    },

    {

     "name": "stdout",

     "output_type": "stream",

     "text": [

      "No face detected\n",

      "None\n"

     ]

    },

    {

     "name": "stderr",

     "output_type": "stream",

     "text": [

      "127.0.0.1 - - [10/Mar/2023 14:29:31] \"GET /takephoto HTTP/1.1\" 200 -\n"

     ]

    },

    {

     "name": "stdout",

     "output_type": "stream",

     "text": [

      "1/1 [==============================] - 1s 658ms/step\n"

     ]

    },

    {

     "name": "stderr",

     "output_type": "stream",

     "text": [

      "127.0.0.1 - - [10/Mar/2023 14:29:34] \"POST /get-image HTTP/1.1\" 302 -\n"

     ]

    },

    {

     "name": "stdout",

     "output_type": "stream",

     "text": [

      "Happy\n"

     ]

    },

    {

     "name": "stderr",

     "output_type": "stream",

     "text": [

      "127.0.0.1 - - [10/Mar/2023 14:29:40] \"GET /takephoto HTTP/1.1\" 200 -\n",

      "127.0.0.1 - - [10/Mar/2023 14:29:40] \"POST /get-image HTTP/1.1\" 302 -\n"

     ]

    },

    {

     "name": "stdout",

     "output_type": "stream",

     "text": [

      "multiple face detected\n",

      "None\n"

     ]

    },

    {

     "name": "stderr",

     "output_type": "stream",

     "text": [

      "127.0.0.1 - - [10/Mar/2023 14:29:46] \"GET /takephoto HTTP/1.1\" 200 -\n",

      "127.0.0.1 - - [10/Mar/2023 14:29:47] \"POST /get-image HTTP/1.1\" 302 -\n"

     ]

    },

    {

     "name": "stdout",

     "output_type": "stream",

     "text": [

      "multiple face detected\n",

      "None\n"

     ]

    },

    {

     "name": "stderr",

     "output_type": "stream",

     "text": [

      "127.0.0.1 - - [10/Mar/2023 14:30:12] \"GET /insert HTTP/1.1\" 200 -\n",

      "127.0.0.1 - - [10/Mar/2023 14:30:12] \"GET /static/button.css HTTP/1.1\" 304 -\n",

      "127.0.0.1 - - [10/Mar/2023 14:30:12] \"GET /static/bckgrnd.jpg HTTP/1.1\" 304 -\n"

     ]

    },

    {

     "name": "stdout",

     "output_type": "stream",

     "text": [

      "1/1 [==============================] - 1s 504ms/step\n"

     ]

    },

    {

     "name": "stderr",

     "output_type": "stream",

     "text": [

      "127.0.0.1 - - [10/Mar/2023 14:30:21] \"POST /upload-image HTTP/1.1\" 200 -\n",

      "127.0.0.1 - - [10/Mar/2023 14:30:22] \"GET /static/button.css HTTP/1.1\" 304 -\n"

     ]

    },

    {

     "name": "stdout",

     "output_type": "stream",

     "text": [

      "Disgust\n"

     ]

    }

   ],

   "source": [

    "app = Flask(__name__)#creating flask object\n",

    "\n",

    "#flask routing\n",

    "@app.route(\"/\")#decorater\n",

    "@app.route(\"/main\")\n",

    "def main():\n",

    "    return render_template(\"main.html\")\n",

    "@app.route(\"/insert\")\n",

    "def insert():\n",

    "    return render_template('insertimage.html')\n",

    "@app.route(\"/takephoto\")\n",

    "def takephoto():\n",

    "    return render_template(\"takephoto.html\")\n",

    "@app.route('/upload-image', methods=['POST'])\n",

    "def upload_image():\n",

    "    #read image file string data\n",

    "    filestr = request.files['image']\n",

    "    #convert string data to numpy array\n",

    "    file_bytes = np.fromfile(filestr, np.uint8)\n",

    "    # convert numpy array to image\n",

    "    img = cv2.imdecode(file_bytes, cv2.IMREAD_UNCHANGED)\n",

    "    emotion = model.haar(img)\n",

    "    print(emotion)\n",

    "    # process the image as desired\n",

    "    return render_template(\"results.html\",value=emotion)\n",

    "@app.route('/get-image', methods=['POST'])\n",

    "def get_image():\n",

    "    # read the image data from the request body\n",

    "    image_data = request.form['image']\n",

    "    # convert the image data to a PIL Image object\n",

    "    image = Image.open(io.BytesIO(base64.b64decode(image_data.split(',')[1])))\n",

    "    # convert the PIL Image to a NumPy array\n",

    "    image_array = np.array(image, dtype='uint8')\n",

    "    # process the image as desired\n",

    "    emotion = model.haar(image_array)\n",

    "    print(emotion)\n",

    "    # redirect to the results page with the emotion value\n",

    "    return redirect(url_for('results', value=emotion))\n",

    "\n",

    "@app.route('/results')\n",

    "def results():\n",

    "    # get the emotion value from the query parameter\n",

    "    emotion = request.args.get('value')\n",

    "    # render the results template with the emotion value\n",

    "    return render_template('results.html', value=emotion)\n",

    "    \n",

    "if __name__ == \"__main__\":\n",

    "    app.run()\n"

   ]

  }

 ],

 "metadata": {

  "kernelspec": {

   "display_name": "Python 3 (ipykernel)",

   "language": "python",

   "name": "python3"

  },

  "language_info": {

   "codemirror_mode": {

    "name": "ipython",

    "version": 3

   },

   "file_extension": ".py",

   "mimetype": "text/x-python",

   "name": "python",

   "nbconvert_exporter": "python",

   "pygments_lexer": "ipython3",

   "version": "3.10.4"

  }

 },

 "nbformat": 4,

 "nbformat_minor": 5

}

